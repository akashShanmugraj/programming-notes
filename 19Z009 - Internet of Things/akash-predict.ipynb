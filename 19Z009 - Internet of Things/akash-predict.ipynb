{
 "cells": [
  {
   "cell_type": "markdown",
   "metadata": {},
   "source": [
    "# Traffic Dataset\n",
    "### Akash Shanmugaraj"
   ]
  },
  {
   "cell_type": "code",
   "execution_count": 2,
   "metadata": {},
   "outputs": [],
   "source": [
    "import pandas as pd\n",
    "from sklearn.preprocessing import LabelEncoder\n",
    "import random\n",
    "import datetime\n",
    "import calendar\n",
    "\n",
    "df = pd.read_csv('traffic.csv')\n"
   ]
  },
  {
   "cell_type": "code",
   "execution_count": 3,
   "metadata": {},
   "outputs": [],
   "source": [
    "df['DateTime']\n",
    "date = []\n",
    "time = []\n",
    "\n",
    "for datetimeentry in df['DateTime']:\n",
    "    # date.append(datetimeentry.split(' ')[0])\n",
    "    d,t = datetimeentry.split(' ')\n",
    "    date.append(d)\n",
    "    time.append(t)\n",
    "\n",
    "# print(l)"
   ]
  },
  {
   "cell_type": "code",
   "execution_count": null,
   "metadata": {},
   "outputs": [],
   "source": []
  },
  {
   "cell_type": "code",
   "execution_count": 4,
   "metadata": {},
   "outputs": [
    {
     "name": "stdout",
     "output_type": "stream",
     "text": [
      "              DateTime  Junction  Vehicles           ID     Day      Time\n",
      "0  2015-11-01 00:00:00         1        15  20151101001  Sunday  00:00:00\n",
      "1  2015-11-01 01:00:00         1        13  20151101011  Sunday  01:00:00\n",
      "2  2015-11-01 02:00:00         1        10  20151101021  Sunday  02:00:00\n",
      "3  2015-11-01 03:00:00         1         7  20151101031  Sunday  03:00:00\n",
      "4  2015-11-01 04:00:00         1         9  20151101041  Sunday  04:00:00\n"
     ]
    }
   ],
   "source": [
    "def findDay(date):\n",
    "    born = datetime.datetime.strptime(date, '%Y-%m-%d').weekday()\n",
    "    return (calendar.day_name[born])\n",
    "\n",
    "day = []\n",
    "for dateentry in date:\n",
    "    day.append(findDay(dateentry))\n",
    "\n",
    "df['Day'] = day\n",
    "df['Time'] = time\n",
    "print(df.head())\n",
    "\n",
    "# save the dataset\n",
    "# df.to_csv('traffic.csv', index=False)"
   ]
  },
  {
   "cell_type": "code",
   "execution_count": 5,
   "metadata": {},
   "outputs": [],
   "source": [
    "# generate random values for the weather\n",
    "weather = []\n",
    "for i in range(len(df)):\n",
    "    weather.append(random.choice(['Sunny', 'Rainy', 'Cloudy', 'Snowy']))\n",
    "\n",
    "df['Weather'] = weather"
   ]
  },
  {
   "cell_type": "markdown",
   "metadata": {},
   "source": [
    "### Simulate Public Holiday"
   ]
  },
  {
   "cell_type": "code",
   "execution_count": 6,
   "metadata": {},
   "outputs": [],
   "source": [
    "public_holiday = []\n",
    "visited = dict()\n",
    "for dateentry in date:\n",
    "    if dateentry in visited:\n",
    "        public_holiday.append(visited[dateentry])\n",
    "        continue\n",
    "    if random.random() > 0.95:\n",
    "        public_holiday.append(1)\n",
    "        visited[dateentry] = 1\n",
    "    else:\n",
    "        public_holiday.append(0)\n",
    "        visited[dateentry] = 0\n",
    "\n",
    "df['PublicHoliday'] = public_holiday\n"
   ]
  },
  {
   "cell_type": "markdown",
   "metadata": {},
   "source": [
    "### Encode Date/Day"
   ]
  },
  {
   "cell_type": "code",
   "execution_count": 7,
   "metadata": {},
   "outputs": [
    {
     "name": "stdout",
     "output_type": "stream",
     "text": [
      "      Day  Day_Encoded\n",
      "0  Sunday            3\n",
      "1  Sunday            3\n",
      "2  Sunday            3\n",
      "3  Sunday            3\n",
      "4  Sunday            3\n",
      "Day mapping: {'Friday': 0, 'Monday': 1, 'Saturday': 2, 'Sunday': 3, 'Thursday': 4, 'Tuesday': 5, 'Wednesday': 6}\n"
     ]
    }
   ],
   "source": [
    "label_encoder = LabelEncoder()\n",
    "\n",
    "day_encoded = label_encoder.fit_transform(df['Day'])\n",
    "\n",
    "df['Day_Encoded'] = day_encoded\n",
    "\n",
    "print(df[['Day', 'Day_Encoded']].head())\n",
    "\n",
    "day_mapping = dict(zip(label_encoder.classes_, label_encoder.transform(label_encoder.classes_)))\n",
    "print(\"Day mapping:\", day_mapping)"
   ]
  },
  {
   "cell_type": "markdown",
   "metadata": {},
   "source": [
    "### Encode Weather"
   ]
  },
  {
   "cell_type": "code",
   "execution_count": 8,
   "metadata": {},
   "outputs": [
    {
     "name": "stdout",
     "output_type": "stream",
     "text": [
      "  Weather  Weather_Encoded\n",
      "0   Rainy                1\n",
      "1  Cloudy                0\n",
      "2   Sunny                3\n",
      "3  Cloudy                0\n",
      "4   Snowy                2\n",
      "Weather mapping: {'Cloudy': 0, 'Rainy': 1, 'Snowy': 2, 'Sunny': 3}\n"
     ]
    }
   ],
   "source": [
    "\n",
    "weather_encoded = label_encoder.fit_transform(df['Weather'])\n",
    "\n",
    "df['Weather_Encoded'] = weather_encoded\n",
    "\n",
    "print(df[['Weather', 'Weather_Encoded']].head())\n",
    "\n",
    "weather_mapping = dict(zip(label_encoder.classes_, label_encoder.transform(label_encoder.classes_)))\n",
    "print(\"Weather mapping:\", weather_mapping)"
   ]
  },
  {
   "cell_type": "markdown",
   "metadata": {},
   "source": [
    "### Encode Time"
   ]
  },
  {
   "cell_type": "code",
   "execution_count": 9,
   "metadata": {},
   "outputs": [
    {
     "name": "stdout",
     "output_type": "stream",
     "text": [
      "       Time  Time_Encoded\n",
      "0  00:00:00             0\n",
      "1  01:00:00             1\n",
      "2  02:00:00             2\n",
      "3  03:00:00             3\n",
      "4  04:00:00             4\n",
      "Time mapping: {'00:00:00': 0, '01:00:00': 1, '02:00:00': 2, '03:00:00': 3, '04:00:00': 4, '05:00:00': 5, '06:00:00': 6, '07:00:00': 7, '08:00:00': 8, '09:00:00': 9, '10:00:00': 10, '11:00:00': 11, '12:00:00': 12, '13:00:00': 13, '14:00:00': 14, '15:00:00': 15, '16:00:00': 16, '17:00:00': 17, '18:00:00': 18, '19:00:00': 19, '20:00:00': 20, '21:00:00': 21, '22:00:00': 22, '23:00:00': 23}\n"
     ]
    }
   ],
   "source": [
    "time_encoded = label_encoder.fit_transform(df['Time'])\n",
    "\n",
    "df['Time_Encoded'] = time_encoded\n",
    "\n",
    "print(df[['Time', 'Time_Encoded']].head())\n",
    "\n",
    "time_mapping = dict(zip(label_encoder.classes_, label_encoder.transform(label_encoder.classes_)))\n",
    "print(\"Time mapping:\", time_mapping)"
   ]
  },
  {
   "cell_type": "code",
   "execution_count": 10,
   "metadata": {},
   "outputs": [
    {
     "data": {
      "text/html": [
       "<div>\n",
       "<style scoped>\n",
       "    .dataframe tbody tr th:only-of-type {\n",
       "        vertical-align: middle;\n",
       "    }\n",
       "\n",
       "    .dataframe tbody tr th {\n",
       "        vertical-align: top;\n",
       "    }\n",
       "\n",
       "    .dataframe thead th {\n",
       "        text-align: right;\n",
       "    }\n",
       "</style>\n",
       "<table border=\"1\" class=\"dataframe\">\n",
       "  <thead>\n",
       "    <tr style=\"text-align: right;\">\n",
       "      <th></th>\n",
       "      <th>DateTime</th>\n",
       "      <th>Junction</th>\n",
       "      <th>Vehicles</th>\n",
       "      <th>ID</th>\n",
       "      <th>Day</th>\n",
       "      <th>Time</th>\n",
       "      <th>Weather</th>\n",
       "      <th>PublicHoliday</th>\n",
       "      <th>Day_Encoded</th>\n",
       "      <th>Weather_Encoded</th>\n",
       "      <th>Time_Encoded</th>\n",
       "    </tr>\n",
       "  </thead>\n",
       "  <tbody>\n",
       "    <tr>\n",
       "      <th>0</th>\n",
       "      <td>2015-11-01 00:00:00</td>\n",
       "      <td>1</td>\n",
       "      <td>15</td>\n",
       "      <td>20151101001</td>\n",
       "      <td>Sunday</td>\n",
       "      <td>00:00:00</td>\n",
       "      <td>Rainy</td>\n",
       "      <td>0</td>\n",
       "      <td>3</td>\n",
       "      <td>1</td>\n",
       "      <td>0</td>\n",
       "    </tr>\n",
       "    <tr>\n",
       "      <th>1</th>\n",
       "      <td>2015-11-01 01:00:00</td>\n",
       "      <td>1</td>\n",
       "      <td>13</td>\n",
       "      <td>20151101011</td>\n",
       "      <td>Sunday</td>\n",
       "      <td>01:00:00</td>\n",
       "      <td>Cloudy</td>\n",
       "      <td>0</td>\n",
       "      <td>3</td>\n",
       "      <td>0</td>\n",
       "      <td>1</td>\n",
       "    </tr>\n",
       "    <tr>\n",
       "      <th>2</th>\n",
       "      <td>2015-11-01 02:00:00</td>\n",
       "      <td>1</td>\n",
       "      <td>10</td>\n",
       "      <td>20151101021</td>\n",
       "      <td>Sunday</td>\n",
       "      <td>02:00:00</td>\n",
       "      <td>Sunny</td>\n",
       "      <td>0</td>\n",
       "      <td>3</td>\n",
       "      <td>3</td>\n",
       "      <td>2</td>\n",
       "    </tr>\n",
       "    <tr>\n",
       "      <th>3</th>\n",
       "      <td>2015-11-01 03:00:00</td>\n",
       "      <td>1</td>\n",
       "      <td>7</td>\n",
       "      <td>20151101031</td>\n",
       "      <td>Sunday</td>\n",
       "      <td>03:00:00</td>\n",
       "      <td>Cloudy</td>\n",
       "      <td>0</td>\n",
       "      <td>3</td>\n",
       "      <td>0</td>\n",
       "      <td>3</td>\n",
       "    </tr>\n",
       "    <tr>\n",
       "      <th>4</th>\n",
       "      <td>2015-11-01 04:00:00</td>\n",
       "      <td>1</td>\n",
       "      <td>9</td>\n",
       "      <td>20151101041</td>\n",
       "      <td>Sunday</td>\n",
       "      <td>04:00:00</td>\n",
       "      <td>Snowy</td>\n",
       "      <td>0</td>\n",
       "      <td>3</td>\n",
       "      <td>2</td>\n",
       "      <td>4</td>\n",
       "    </tr>\n",
       "  </tbody>\n",
       "</table>\n",
       "</div>"
      ],
      "text/plain": [
       "              DateTime  Junction  Vehicles           ID     Day      Time  \\\n",
       "0  2015-11-01 00:00:00         1        15  20151101001  Sunday  00:00:00   \n",
       "1  2015-11-01 01:00:00         1        13  20151101011  Sunday  01:00:00   \n",
       "2  2015-11-01 02:00:00         1        10  20151101021  Sunday  02:00:00   \n",
       "3  2015-11-01 03:00:00         1         7  20151101031  Sunday  03:00:00   \n",
       "4  2015-11-01 04:00:00         1         9  20151101041  Sunday  04:00:00   \n",
       "\n",
       "  Weather  PublicHoliday  Day_Encoded  Weather_Encoded  Time_Encoded  \n",
       "0   Rainy              0            3                1             0  \n",
       "1  Cloudy              0            3                0             1  \n",
       "2   Sunny              0            3                3             2  \n",
       "3  Cloudy              0            3                0             3  \n",
       "4   Snowy              0            3                2             4  "
      ]
     },
     "execution_count": 10,
     "metadata": {},
     "output_type": "execute_result"
    }
   ],
   "source": [
    "df.head()"
   ]
  },
  {
   "cell_type": "code",
   "execution_count": null,
   "metadata": {},
   "outputs": [
    {
     "name": "stdout",
     "output_type": "stream",
     "text": [
      "PublicHoliday\n",
      "0    45648\n",
      "1     2472\n",
      "Name: count, dtype: int64\n"
     ]
    }
   ],
   "source": [
    "c = df[\"PublicHoliday\"].value_counts()\n",
    "print(c)"
   ]
  },
  {
   "cell_type": "code",
   "execution_count": null,
   "metadata": {},
   "outputs": [],
   "source": [
    "from sklearn.model_selection import train_test_split \n",
    "X = df.drop(columns=['DateTime', 'ID', 'Day', 'Time', 'Weather', 'Vehicles', 'PublicHoliday', 'Weather_Encoded, '])\n",
    "y = df['Vehicles']\n",
    "\n",
    "X_train, X_test, y_train, y_test = train_test_split(X, y, test_size=0.2)"
   ]
  },
  {
   "cell_type": "code",
   "execution_count": 21,
   "metadata": {},
   "outputs": [
    {
     "name": "stdout",
     "output_type": "stream",
     "text": [
      "Mean Squared Error (Polynomial Regression): 154.4924944791372\n",
      "R2 Score (Polynomial Regression): 0.6510342336782202\n",
      "Accuracy (Polynomial Regression): 0.6510342336782202\n"
     ]
    }
   ],
   "source": [
    "from sklearn.preprocessing import PolynomialFeatures\n",
    "from sklearn.linear_model import LinearRegression\n",
    "from sklearn.metrics import mean_squared_error, r2_score\n",
    "\n",
    "# Transform the features to polynomial features\n",
    "poly = PolynomialFeatures(degree=5) # You can change the degree of the polynomial\n",
    "X_train_poly = poly.fit_transform(X_train)\n",
    "X_test_poly = poly.transform(X_test)\n",
    "\n",
    "# Initialize the model\n",
    "polynomial_regressor = LinearRegression()\n",
    "\n",
    "# Train the model\n",
    "polynomial_regressor.fit(X_train_poly, y_train)\n",
    "\n",
    "# Make predictions\n",
    "y_pred_poly = polynomial_regressor.predict(X_test_poly)\n",
    "\n",
    "# Evaluate the model\n",
    "mse_poly = mean_squared_error(y_test, y_pred_poly)\n",
    "r2_poly = r2_score(y_test, y_pred_poly)\n",
    "\n",
    "print(f\"Mean Squared Error (Polynomial Regression): {mse_poly}\")\n",
    "print(f\"R2 Score (Polynomial Regression): {r2_poly}\")\n",
    "\n",
    "# Calculate accuracy\n",
    "accuracy_poly = polynomial_regressor.score(X_test_poly, y_test)\n",
    "print(f\"Accuracy (Polynomial Regression): {accuracy_poly}\")"
   ]
  },
  {
   "cell_type": "code",
   "execution_count": null,
   "metadata": {},
   "outputs": [],
   "source": []
  }
 ],
 "metadata": {
  "kernelspec": {
   "display_name": "base",
   "language": "python",
   "name": "python3"
  },
  "language_info": {
   "codemirror_mode": {
    "name": "ipython",
    "version": 3
   },
   "file_extension": ".py",
   "mimetype": "text/x-python",
   "name": "python",
   "nbconvert_exporter": "python",
   "pygments_lexer": "ipython3",
   "version": "3.11.7"
  }
 },
 "nbformat": 4,
 "nbformat_minor": 4
}
