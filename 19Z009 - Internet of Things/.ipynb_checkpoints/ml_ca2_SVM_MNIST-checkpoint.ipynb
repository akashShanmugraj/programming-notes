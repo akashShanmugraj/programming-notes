{
  "cells": [
    {
      "cell_type": "code",
      "execution_count": 4,
      "metadata": {
        "id": "jz7GZJQOt5dt"
      },
      "outputs": [
        {
          "ename": "ModuleNotFoundError",
          "evalue": "No module named 'google.colab'",
          "output_type": "error",
          "traceback": [
            "\u001b[0;31m---------------------------------------------------------------------------\u001b[0m",
            "\u001b[0;31mModuleNotFoundError\u001b[0m                       Traceback (most recent call last)",
            "Cell \u001b[0;32mIn[4], line 1\u001b[0m\n\u001b[0;32m----> 1\u001b[0m \u001b[38;5;28;01mfrom\u001b[39;00m \u001b[38;5;21;01mgoogle\u001b[39;00m\u001b[38;5;21;01m.\u001b[39;00m\u001b[38;5;21;01mcolab\u001b[39;00m \u001b[38;5;28;01mimport\u001b[39;00m drive\n\u001b[1;32m      2\u001b[0m mnist_path \u001b[38;5;241m=\u001b[39m \u001b[38;5;124m\"\u001b[39m\u001b[38;5;124m/content/drive/My Drive/MNIST\u001b[39m\u001b[38;5;124m\"\u001b[39m\n",
            "\u001b[0;31mModuleNotFoundError\u001b[0m: No module named 'google.colab'"
          ]
        }
      ],
      "source": [
        "from google.colab import drive\n",
        "mnist_path = \"/content/drive/My Drive/MNIST\""
      ]
    },
    {
      "cell_type": "code",
      "execution_count": null,
      "metadata": {
        "id": "leXFt3VbxAXS"
      },
      "outputs": [
        {
          "name": "stderr",
          "output_type": "stream",
          "text": [
            "/opt/anaconda3/lib/python3.11/site-packages/torch/utils/_pytree.py:185: FutureWarning: optree is installed but the version is too old to support PyTorch Dynamo in C++ pytree. C++ pytree support is disabled. Please consider upgrading optree using `python3 -m pip install --upgrade 'optree>=0.13.0'`.\n",
            "  warnings.warn(\n"
          ]
        }
      ],
      "source": [
        "import torch\n",
        "from torchvision import datasets, transforms\n",
        "from torch.utils.data import random_split, DataLoader"
      ]
    },
    {
      "cell_type": "markdown",
      "metadata": {
        "id": "wTsfZV-JkHIf"
      },
      "source": [
        "# Preprocessing"
      ]
    },
    {
      "cell_type": "code",
      "execution_count": 12,
      "metadata": {
        "colab": {
          "base_uri": "https://localhost:8080/"
        },
        "id": "0oYrw5-GxCnA",
        "outputId": "c6b545cb-adf5-4f64-9981-ba76328ac4c2"
      },
      "outputs": [
        {
          "name": "stdout",
          "output_type": "stream",
          "text": [
            "torch.Size([48000, 28, 28, 1])\n",
            "torch.Size([10000, 28, 28, 1])\n"
          ]
        }
      ],
      "source": [
        "transform = transforms.Compose([\n",
        "    transforms.ToTensor(),\n",
        "    transforms.RandomRotation(10),  # Rotate images by ±10 degrees\n",
        "    transforms.RandomAffine(0, translate=(0.1, 0.1)),  # Randomly shift images\n",
        "    transforms.RandomResizedCrop(28, scale=(0.9, 1.1)),  # Zoom in/out\n",
        "])\n",
        "\n",
        "train_dataset = datasets.MNIST(root=\"\", train=True, transform=transform, download=True)\n",
        "test_dataset = datasets.MNIST(root=\"\", train=False, transform=transform, download=True)\n",
        "\n",
        "train_size = int(0.8 * len(train_dataset))\n",
        "val_size = len(train_dataset) - train_size\n",
        "train_set, val_set = random_split(train_dataset, [train_size, val_size])\n",
        "\n",
        "x_train = torch.stack([img for img, _ in train_set])\n",
        "x_test = torch.stack([img for img, _ in test_dataset])\n",
        "x_valid = torch.stack([img for img, _ in val_set])\n",
        "\n",
        "y_train = torch.tensor([label for _, label in train_set])\n",
        "y_test = torch.tensor([label for _, label in test_dataset])\n",
        "y_valid = torch.tensor([label for _, label in val_set])\n",
        "\n",
        "x_train = x_train.reshape(-1, 28, 28, 1)\n",
        "x_test = x_test.reshape(-1, 28, 28, 1)\n",
        "\n",
        "print(x_train.shape)\n",
        "print(x_test.shape)"
      ]
    },
    {
      "cell_type": "markdown",
      "metadata": {
        "id": "Bo2XWFUKkLTq"
      },
      "source": [
        "# Principle Component Analysis"
      ]
    },
    {
      "cell_type": "code",
      "execution_count": 13,
      "metadata": {
        "id": "jE21Qw_YxEkM"
      },
      "outputs": [],
      "source": [
        "from sklearn.decomposition import PCA\n",
        "from sklearn.preprocessing import StandardScaler"
      ]
    },
    {
      "cell_type": "code",
      "execution_count": 14,
      "metadata": {
        "id": "8AtSZsCZxJZ8"
      },
      "outputs": [],
      "source": [
        "# flatten\n",
        "x_train_flat = x_train.reshape(x_train.shape[0], -1)\n",
        "x_test_flat = x_test.reshape(x_test.shape[0], -1)\n",
        "\n",
        "# scale\n",
        "scaler = StandardScaler()\n",
        "x_train_scaled = scaler.fit_transform(x_train_flat)\n",
        "x_test_scaled = scaler.transform(x_test_flat)\n"
      ]
    },
    {
      "cell_type": "code",
      "execution_count": 15,
      "metadata": {
        "id": "J4wbJZs4xPC7"
      },
      "outputs": [],
      "source": [
        "pca = PCA(n_components=50)\n",
        "x_train_pca = pca.fit_transform(x_train_scaled)\n",
        "x_test_pca = pca.transform(x_test_scaled)\n"
      ]
    },
    {
      "cell_type": "code",
      "execution_count": 17,
      "metadata": {
        "colab": {
          "base_uri": "https://localhost:8080/"
        },
        "id": "hACcoGS7kAwj",
        "outputId": "79eaa911-c1a8-42f1-bac7-92c446fedb1e"
      },
      "outputs": [
        {
          "name": "stdout",
          "output_type": "stream",
          "text": [
            "Number of features after PCA:  50\n"
          ]
        }
      ],
      "source": [
        "print(\"Number of features after PCA: \", x_train_pca.shape[1])\n"
      ]
    },
    {
      "cell_type": "code",
      "execution_count": null,
      "metadata": {
        "id": "gTq4nvilkhtN"
      },
      "outputs": [],
      "source": []
    },
    {
      "cell_type": "markdown",
      "metadata": {
        "id": "9BOfocZ5kQJ5"
      },
      "source": [
        "# Support Vector Machine (SVM)"
      ]
    },
    {
      "cell_type": "code",
      "execution_count": 18,
      "metadata": {
        "id": "ZNIXETsGkEEN"
      },
      "outputs": [],
      "source": [
        "import numpy as np\n",
        "from sklearn.svm import SVC\n",
        "from sklearn.metrics import accuracy_score, classification_report"
      ]
    },
    {
      "cell_type": "markdown",
      "metadata": {
        "id": "oCRIF8Cwqh9U"
      },
      "source": [
        "#### Polynomial kernel"
      ]
    },
    {
      "cell_type": "code",
      "execution_count": 19,
      "metadata": {
        "colab": {
          "base_uri": "https://localhost:8080/"
        },
        "id": "Zs87GhVvkeC-",
        "outputId": "22418d81-57bb-4310-fc88-2fb55846094a"
      },
      "outputs": [
        {
          "name": "stdout",
          "output_type": "stream",
          "text": [
            "SVM Model Accuracy: 0.9283\n",
            "              precision    recall  f1-score   support\n",
            "\n",
            "           0       0.96      0.96      0.96       980\n",
            "           1       0.97      0.98      0.97      1135\n",
            "           2       0.95      0.93      0.94      1032\n",
            "           3       0.95      0.91      0.93      1010\n",
            "           4       0.92      0.90      0.91       982\n",
            "           5       0.92      0.90      0.91       892\n",
            "           6       0.95      0.95      0.95       958\n",
            "           7       0.96      0.89      0.92      1028\n",
            "           8       0.86      0.93      0.89       974\n",
            "           9       0.85      0.93      0.89      1009\n",
            "\n",
            "    accuracy                           0.93     10000\n",
            "   macro avg       0.93      0.93      0.93     10000\n",
            "weighted avg       0.93      0.93      0.93     10000\n",
            "\n"
          ]
        }
      ],
      "source": [
        "# polynomial svc\n",
        "svm_model = SVC(kernel='poly', C=1.0, gamma='scale')\n",
        "\n",
        "svm_model.fit(x_train_pca, y_train)\n",
        "\n",
        "y_pred = svm_model.predict(x_test_pca)\n",
        "\n",
        "\n",
        "accuracy = accuracy_score(y_test, y_pred)\n",
        "print(f\"SVM Model Accuracy: {accuracy:.4f}\")\n",
        "\n",
        "print(classification_report(y_test, y_pred))"
      ]
    },
    {
      "cell_type": "code",
      "execution_count": 21,
      "metadata": {
        "colab": {
          "base_uri": "https://localhost:8080/",
          "height": 472
        },
        "id": "d04NTqK4ht5p",
        "outputId": "a92e269c-63af-4f50-b8b7-ee27dd30a8da"
      },
      "outputs": [
        {
          "data": {
            "image/png": "[encoded data removed]",
            "text/plain": [
              "<Figure size 640x480 with 2 Axes>"
            ]
          },
          "metadata": {},
          "output_type": "display_data"
        }
      ],
      "source": [
        "from sklearn.metrics import confusion_matrix\n",
        "import matplotlib.pyplot as matplot\n",
        "import seaborn as sb\n",
        "cm = confusion_matrix(y_test, y_pred)\n",
        "sb.heatmap(cm, annot = True, fmt = 'g')\n",
        "matplot.xlabel(\"Predicted\")\n",
        "matplot.ylabel(\"Actual\")\n",
        "matplot.title(\"Confusion Matrix for Polynomial Kernel based SVC\")\n",
        "matplot.show()"
      ]
    },
    {
      "cell_type": "markdown",
      "metadata": {
        "id": "R0ybVJlOruqb"
      },
      "source": [
        "#### RBF Kernel"
      ]
    },
    {
      "cell_type": "code",
      "execution_count": 22,
      "metadata": {
        "colab": {
          "base_uri": "https://localhost:8080/"
        },
        "id": "ecIgp3DEksOk",
        "outputId": "8b5d25c7-4d8c-4d80-c53d-d937eeb14bf2"
      },
      "outputs": [
        {
          "name": "stdout",
          "output_type": "stream",
          "text": [
            "SVM Model Accuracy: 0.9376\n",
            "              precision    recall  f1-score   support\n",
            "\n",
            "           0       0.96      0.98      0.97       980\n",
            "           1       0.97      0.99      0.98      1135\n",
            "           2       0.92      0.94      0.93      1032\n",
            "           3       0.94      0.93      0.93      1010\n",
            "           4       0.92      0.91      0.92       982\n",
            "           5       0.93      0.92      0.92       892\n",
            "           6       0.97      0.96      0.96       958\n",
            "           7       0.95      0.92      0.93      1028\n",
            "           8       0.92      0.91      0.91       974\n",
            "           9       0.90      0.91      0.91      1009\n",
            "\n",
            "    accuracy                           0.94     10000\n",
            "   macro avg       0.94      0.94      0.94     10000\n",
            "weighted avg       0.94      0.94      0.94     10000\n",
            "\n"
          ]
        }
      ],
      "source": [
        "svm_model = SVC(kernel='rbf', C=1.0, gamma='scale')\n",
        "\n",
        "svm_model.fit(x_train_pca, y_train)\n",
        "\n",
        "y_pred = svm_model.predict(x_test_pca)\n",
        "\n",
        "\n",
        "accuracy = accuracy_score(y_test, y_pred)\n",
        "print(f\"SVM Model Accuracy: {accuracy:.4f}\")\n",
        "\n",
        "print(classification_report(y_test, y_pred))"
      ]
    },
    {
      "cell_type": "code",
      "execution_count": 23,
      "metadata": {
        "colab": {
          "base_uri": "https://localhost:8080/",
          "height": 472
        },
        "id": "S6OCwGBBq7S-",
        "outputId": "bb8c58fd-9d1c-474f-9ea1-d86d7d774387"
      },
      "outputs": [
        {
          "data": {
            "image/png": "[encoded data removed]",
            "text/plain": [
              "<Figure size 640x480 with 2 Axes>"
            ]
          },
          "metadata": {},
          "output_type": "display_data"
        }
      ],
      "source": [
        "cm = confusion_matrix(y_test, y_pred)\n",
        "sb.heatmap(cm, annot = True, fmt = 'g')\n",
        "matplot.xlabel(\"Predicted\")\n",
        "matplot.ylabel(\"Actual\")\n",
        "matplot.title(\"Confusion Matrix for RBF Kernel based SVC\")\n",
        "matplot.show()"
      ]
    },
    {
      "cell_type": "markdown",
      "metadata": {
        "id": "rRYCDSDyr1GA"
      },
      "source": [
        "## Linear Kernel (SVC)"
      ]
    },
    {
      "cell_type": "code",
      "execution_count": null,
      "metadata": {
        "id": "yhuOKMlKrzIE"
      },
      "outputs": [],
      "source": [
        "\n",
        "svm_model = SVC(kernel='linear', C=1.0, gamma='scale')\n",
        "\n",
        "svm_model.fit(x_train_pca, y_train)\n",
        "\n",
        "y_pred = svm_model.predict(x_test_pca)\n",
        "\n",
        "\n",
        "accuracy = accuracy_score(y_test, y_pred)\n",
        "print(f\"SVM Model Accuracy: {accuracy:.4f}\")\n",
        "\n",
        "print(classification_report(y_test, y_pred))"
      ]
    },
    {
      "cell_type": "markdown",
      "metadata": {
        "id": "aBbXND19jHWD"
      },
      "source": [
        "### Linear Kernel for Multiple Cost Factors"
      ]
    },
    {
      "cell_type": "code",
      "execution_count": null,
      "metadata": {
        "id": "GEloSmtTsyx4"
      },
      "outputs": [],
      "source": [
        "acc = []\n",
        "acc_tr = []\n",
        "coefficient = []\n",
        "for c in [0.0001,0.001,0.01,0.1,1,10,100,1000,10000]:\n",
        "    svm = SVC(kernel='linear', C=c, gamma='scale')\n",
        "    svm.fit(train, trlab)\n",
        "    coef = svm.coef_\n",
        "\n",
        "    p_tr = svm.predict(train)\n",
        "    a_tr = accuracy_score(trlab, p_tr)\n",
        "\n",
        "    pred = svm.predict(test)\n",
        "    a = accuracy_score(tslab, pred)\n",
        "\n",
        "    coefficient.append(coef)\n",
        "    acc_tr.append(a_tr)\n",
        "    acc.append(a)"
      ]
    },
    {
      "cell_type": "code",
      "execution_count": null,
      "metadata": {
        "id": "Rw7Xwp1xjXZp"
      },
      "outputs": [],
      "source": []
    }
  ],
  "metadata": {
    "colab": {
      "provenance": []
    },
    "kernelspec": {
      "display_name": "base",
      "language": "python",
      "name": "python3"
    },
    "language_info": {
      "codemirror_mode": {
        "name": "ipython",
        "version": 3
      },
      "file_extension": ".py",
      "mimetype": "text/x-python",
      "name": "python",
      "nbconvert_exporter": "python",
      "pygments_lexer": "ipython3",
      "version": "3.11.7"
    }
  },
  "nbformat": 4,
  "nbformat_minor": 0
}
