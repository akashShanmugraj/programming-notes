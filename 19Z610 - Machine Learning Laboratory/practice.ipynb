{
 "cells": [
  {
   "cell_type": "code",
   "execution_count": null,
   "metadata": {},
   "outputs": [],
   "source": [
    "import pandas as pd\n",
    "import sys,os\n",
    "from sklearn.preprocessing import StandardScaler, MinMaxScaler\n",
    "from sklearn.impute import SimpleImputer\n",
    "\n",
    "df = pd.read_csv(os.join.path(sys.path[0], \"filename.csv\"))\n",
    "df.dropna()\n",
    "\n",
    "meani = SimpleImputer(strategy=\"mean\")\n",
    "modei = SimpleImputer(strategy=\"most_frequent\")\n",
    "mediani = SimpleImputer(strategy=\"median\")\n",
    "stder = StandardScaler()\n",
    "nrmer = MinMaxScaler()\n",
    "\n",
    "df[\"E2\"] = modei.fit_transform(df[[\"Employment\"]])\n",
    "df[\"IS\"] = stder.fit_transform()"
   ]
  },
  {
   "cell_type": "code",
   "execution_count": null,
   "metadata": {},
   "outputs": [],
   "source": [
    "from sklearn.linear_model import LinearRegression\n",
    "from sklearn.model_selection import train_test_split\n",
    "from sklearn.metrics import accuracy_score, classification_report\n",
    "\n",
    "df = pd.read_csv(os.path.join(sys.path[0], \"filename.csv\"))\n",
    "lrr = LinearRegression()"
   ]
  },
  {
   "cell_type": "code",
   "execution_count": null,
   "metadata": {},
   "outputs": [],
   "source": [
    "import pandas as pd\n",
    "import numpy as np\n",
    "from sklearn.neural_network import MLPClassifier\n",
    "from sklearn.preprocessing import StandardScaler\n",
    "import os, sys\n",
    "\n",
    "df = pd.read_csv(\"filename.csv\")\n"
   ]
  }
 ],
 "metadata": {
  "kernelspec": {
   "display_name": "base",
   "language": "python",
   "name": "python3"
  },
  "language_info": {
   "codemirror_mode": {
    "name": "ipython",
    "version": 3
   },
   "file_extension": ".py",
   "mimetype": "text/x-python",
   "name": "python",
   "nbconvert_exporter": "python",
   "pygments_lexer": "ipython3",
   "version": "3.11.7"
  }
 },
 "nbformat": 4,
 "nbformat_minor": 2
}
